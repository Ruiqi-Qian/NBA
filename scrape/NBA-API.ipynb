{
 "cells": [
  {
   "cell_type": "code",
   "execution_count": null,
   "id": "001d25c3",
   "metadata": {},
   "outputs": [],
   "source": [
    "import requests\n",
    "import pandas as pd"
   ]
  },
  {
   "cell_type": "code",
   "execution_count": null,
   "id": "96c0816c",
   "metadata": {},
   "outputs": [],
   "source": [
    "# Define headers to simulate a browser request (important for NBA API)\n",
    "headers = {\n",
    "    'User-Agent': 'Mozilla/5.0',\n",
    "    'x-nba-stats-origin': 'stats',\n",
    "    'x-nba-stats-token': 'true',\n",
    "    'Referer': 'https://www.nba.com/',\n",
    "    'Accept-Encoding': 'gzip, deflate, br',\n",
    "    'Accept-Language': 'en-US,en;q=0.9'\n",
    "}"
   ]
  },
  {
   "cell_type": "code",
   "execution_count": null,
   "id": "fc9d0204",
   "metadata": {},
   "outputs": [],
   "source": [
    "# NBA API endpoint for player stats per game (2023-24 season as example)\n",
    "url = \"https://stats.nba.com/stats/leaguedashplayerstats\""
   ]
  },
  {
   "cell_type": "code",
   "execution_count": null,
   "id": "23053909",
   "metadata": {},
   "outputs": [],
   "source": [
    "# Set the parameters to fetch per game player stats\n",
    "params = {\n",
    "    \"Season\": \"2023-24\",\n",
    "    \"SeasonType\": \"Regular Season\",\n",
    "    \"MeasureType\": \"Base\",\n",
    "    \"PerMode\": \"PerGame\",  # Can be 'Totals' or 'PerGame'\n",
    "    \"LeagueID\": \"00\",\n",
    "    \"Outcome\": \"\",\n",
    "    \"Location\": \"\",\n",
    "    \"Month\": \"0\",\n",
    "    \"SeasonSegment\": \"\",\n",
    "    \"DateFrom\": \"\",\n",
    "    \"DateTo\": \"\",\n",
    "    \"OpponentTeamID\": \"0\",\n",
    "    \"VsConference\": \"\",\n",
    "    \"VsDivision\": \"\",\n",
    "    \"TeamID\": \"0\",\n",
    "    \"Conference\": \"\",\n",
    "    \"Division\": \"\",\n",
    "    \"GameSegment\": \"\",\n",
    "    \"Period\": \"0\",\n",
    "    \"ShotClockRange\": \"\",\n",
    "    \"LastNGames\": \"0\",\n",
    "    \"GameScope\": \"\",\n",
    "    \"PlayerExperience\": \"\",\n",
    "    \"PlayerPosition\": \"\",\n",
    "    \"StarterBench\": \"\",\n",
    "    \"TwoWay\": \"0\",\n",
    "    \"PORound\": \"0\"\n",
    "}"
   ]
  },
  {
   "cell_type": "code",
   "execution_count": null,
   "id": "3b2294b8",
   "metadata": {},
   "outputs": [],
   "source": [
    "# Send GET request to NBA stats API\n",
    "response = requests.get(url, headers=headers, params=params, timeout=10)\n",
    "\n",
    "# Raise an error if the request was unsuccessful\n",
    "response.raise_for_status()\n",
    "\n",
    "# Parse JSON response\n",
    "data_json = response.json()\n",
    "\n",
    "# Extract header and row data\n",
    "headers = data_json['resultSets'][0]['headers']\n",
    "rows = data_json['resultSets'][0]['rowSet']\n",
    "\n",
    "# Convert to pandas DataFrame\n",
    "df = pd.DataFrame(rows, columns=headers)"
   ]
  },
  {
   "cell_type": "code",
   "execution_count": null,
   "id": "3709386e",
   "metadata": {},
   "outputs": [],
   "source": [
    "# Display top 10 players sorted by PTS (Points per Game)\n",
    "df_sorted = df.sort_values(by='PTS', ascending=False).head(10)\n",
    "print(df_sorted[['PLAYER_NAME', 'TEAM_ABBREVIATION', 'PTS']])"
   ]
  }
 ],
 "metadata": {
  "language_info": {
   "name": "python"
  }
 },
 "nbformat": 4,
 "nbformat_minor": 5
}
